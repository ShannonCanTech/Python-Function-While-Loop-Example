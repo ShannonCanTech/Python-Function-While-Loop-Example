{
 "cells": [
  {
   "cell_type": "markdown",
   "metadata": {
    "collapsed": true
   },
   "source": [
    "This is a basic example of creating a function with a 3 parameters, including 1 default parameter. The function stores key-value pairs for artists and album titles, with the option to store track numbers in the same dictionary.\n",
    "\n",
    "The following code example utilizes a while loop to demonstrate how to continuously accept user input until the user chooses to stop.\n",
    "\n",
    "For each albujm information the user inputs, a new dictionary will be returned."
   ]
  },
  {
   "cell_type": "code",
   "execution_count": null,
   "metadata": {},
   "outputs": [],
   "source": [
    "# track_nums is an empty string, serving as a default param\n",
    "# If user decides to input a track number, 'number of tracks' will be added to the album dictionary\n",
    "def make_album(artist_name, album_title, track_nums=''):\n",
    "    \"\"\"Returns a dictionary containing information on an album.\"\"\"\n",
    "    album = {'artist': artist_name, 'album': album_title}\n",
    "    if track_nums:\n",
    "        album['number of tracks'] = track_nums\n",
    "    return album\n",
    "\n",
    "# Takes input of the artist, album name, and optional track numbers\n",
    "# Enter 'q' anytime to quit\n",
    "# lower() used to ignore casing, strip() used to remove whitespace\n",
    "while True:\n",
    "    print(\"Enter album information: \")\n",
    "    print(\"(enter 'q' to quit)\")\n",
    "    \n",
    "    artist = input(\"Artist name: \").lower().strip()\n",
    "    if artist == 'q':\n",
    "        break\n",
    "        \n",
    "    album = input(\"Album name: \").lower().strip()\n",
    "    if album == 'q':\n",
    "        break\n",
    " \n",
    "# Option to input number of tracks\n",
    "# If user enters 'yes' or 'y', value tracks will be add to the function call make_album as positional argument\n",
    "    answer = input(\"Would you like to enter the number of tracks? (y/n)\").lower().strip()\n",
    "    if answer == 'y' or answer == 'yes':\n",
    "        tracks = input(\"Number of tracks: \")\n",
    "        album_with_tracks = make_album(artist, album, tracks)\n",
    "        print('\\n',album_with_tracks)\n",
    "        if tracks == 'q':\n",
    "            break\n",
    "    else:\n",
    "        album_without_tracks = make_album(artist, album)\n",
    "        print('\\n',album_without_tracks)\n",
    "        pass\n"
   ]
  }
 ],
 "metadata": {
  "kernelspec": {
   "display_name": "Python 2",
   "language": "python",
   "name": "python2"
  },
  "language_info": {
   "codemirror_mode": {
    "name": "ipython",
    "version": 2
   },
   "file_extension": ".py",
   "mimetype": "text/x-python",
   "name": "python",
   "nbconvert_exporter": "python",
   "pygments_lexer": "ipython2",
   "version": "2.7.6"
  }
 },
 "nbformat": 4,
 "nbformat_minor": 0
}
